{
    "metadata": {
        "kernelspec": {
            "name": "SQL",
            "display_name": "SQL",
            "language": "sql"
        },
        "language_info": {
            "name": "sql",
            "version": ""
        }
    },
    "nbformat_minor": 2,
    "nbformat": 4,
    "cells": [
        {
            "cell_type": "code",
            "source": [
                "Use tempdb;"
            ],
            "metadata": {
                "azdata_cell_guid": "aae776ac-904e-433a-ba04-150f73a6e061"
            },
            "outputs": [],
            "execution_count": null
        },
        {
            "cell_type": "markdown",
            "source": [
                "*****\r\n",
                "<h1>DELETE\r\n",
                "\r\n",
                "*****"
            ],
            "metadata": {
                "azdata_cell_guid": "bcfcdc4b-c1de-4849-b8d3-332f5da2b98c"
            }
        },
        {
            "cell_type": "markdown",
            "source": [
                "***\r\n",
                "<h2>DELETE a single known record\r\n",
                "\r\n",
                "****\r\n",
                ""
            ],
            "metadata": {
                "azdata_cell_guid": "0ed6e6e8-2e6b-4156-a859-f814403f7ebc"
            }
        },
        {
            "cell_type": "markdown",
            "source": [
                "First, confirm the ID of the currency to delete."
            ],
            "metadata": {
                "azdata_cell_guid": "d672d2d3-8e49-47d5-aba8-73c94445e0f2"
            }
        },
        {
            "cell_type": "code",
            "source": [
                "SELECT Currency_ID, Currency_Code, Currency_Name\r\n",
                "FROM dbo.Currency\r\n",
                "WHERE Currency_ID = 8\r\n",
                ";"
            ],
            "metadata": {
                "azdata_cell_guid": "45adb867-5e07-40a7-8e28-c9edf9c3d010"
            },
            "outputs": [],
            "execution_count": null
        },
        {
            "cell_type": "markdown",
            "source": [
                "Delete Malaysian Ringgit"
            ],
            "metadata": {
                "azdata_cell_guid": "3015cf07-016e-4e6f-a8c4-66e8ef93712a"
            }
        },
        {
            "cell_type": "code",
            "source": [
                "DELETE FROM dbo.Currency\r\n",
                "WHERE Currency_ID = 8\r\n",
                ";"
            ],
            "metadata": {
                "azdata_cell_guid": "a1600db8-1762-4abe-8521-4f7b1987dba8"
            },
            "outputs": [],
            "execution_count": null
        },
        {
            "cell_type": "markdown",
            "source": [
                "Confirm DELETE was successful.\r\n",
                ""
            ],
            "metadata": {
                "azdata_cell_guid": "a0e1f83b-974f-40e6-be9a-2384f0c8659a"
            }
        },
        {
            "cell_type": "code",
            "source": [
                "SELECT Currency_ID, Currency_Code, Currency_Name\r\n",
                "FROM dbo.Currency\r\n",
                ";"
            ],
            "metadata": {
                "azdata_cell_guid": "ee2497cb-3de8-444f-a4c9-e90ff9ef12c9"
            },
            "outputs": [],
            "execution_count": null
        },
        {
            "cell_type": "markdown",
            "source": [
                "****\r\n",
                "<h2> DELETE based on another table\r\n",
                "\r\n",
                "****\r\n",
                ""
            ],
            "metadata": {
                "azdata_cell_guid": "145e4299-2b91-4f6b-be5f-5b3fd2c60230"
            }
        },
        {
            "cell_type": "markdown",
            "source": [
                "We no longer need records for orders that have been completely paid.\r\n",
                "\r\n",
                "First, identify accounts where all sales orders have been paid\r\n",
                ""
            ],
            "metadata": {
                "azdata_cell_guid": "3270ba80-37db-43a7-a38a-fed3727205da"
            }
        },
        {
            "cell_type": "code",
            "source": [
                "SELECT a.Account_ID, a.Account_Name, \r\n",
                "\tSUM(Total_Amount) as Total_Amount, \r\n",
                "\tSUM(Amount_Due) as Amount_Due, \r\n",
                "\tCOUNT(*) as NoOfOrders\r\n",
                "FROM dbo.SalesOrder as so\r\n",
                "\tJOIN dbo.Account as a ON so.Account_ID = a.Account_ID\r\n",
                "GROUP BY a.Account_ID, a.Account_Name\r\n",
                "HAVING SUM(Amount_Due) = 0\r\n",
                ";"
            ],
            "metadata": {
                "azdata_cell_guid": "b5f088f6-908f-4fff-90b6-faf5dbf29a86"
            },
            "outputs": [],
            "execution_count": null
        },
        {
            "cell_type": "markdown",
            "source": [
                "Start by looking at just the ones for Amazon.\r\n",
                ""
            ],
            "metadata": {
                "azdata_cell_guid": "4d7292aa-5896-4dbe-b93c-88ec68783dc4"
            }
        },
        {
            "cell_type": "code",
            "source": [
                "SELECT so.Sales_Order_ID, so.Account_ID, so.Contact_Person_ID, \r\n",
                "\tso.Total_Amount, so.Amount_Due, so.Last_Updated\r\n",
                "FROM dbo.SalesOrder as so\r\n",
                "\tJOIN dbo.Account as a ON so.Account_ID = a.Account_ID\r\n",
                "WHERE a.Account_Name = 'Amazon'\r\n",
                ";"
            ],
            "metadata": {
                "azdata_cell_guid": "351bd4a0-372d-4be9-909f-7e20092c17ce"
            },
            "outputs": [],
            "execution_count": null
        },
        {
            "cell_type": "markdown",
            "source": [
                "Delete those records.\r\n",
                ""
            ],
            "metadata": {
                "azdata_cell_guid": "1f8c2ef1-4fbf-40e6-9224-fa8561544e3b"
            }
        },
        {
            "cell_type": "code",
            "source": [
                "DELETE so\r\n",
                "FROM dbo.SalesOrder as so\r\n",
                "\tJOIN dbo.Account as a ON so.Account_ID = a.Account_ID\r\n",
                "WHERE a.Account_Name = 'Amazon'\r\n",
                ";"
            ],
            "metadata": {
                "azdata_cell_guid": "ecbed0e6-8a16-4ba2-9481-4212555d1079"
            },
            "outputs": [],
            "execution_count": null
        },
        {
            "cell_type": "markdown",
            "source": [
                "Identify the Sales Orders to delete based on the query to identify the records."
            ],
            "metadata": {
                "azdata_cell_guid": "195b644d-7a0a-4e57-9342-3ef6aad3ad8f"
            }
        },
        {
            "cell_type": "code",
            "source": [
                "SELECT so.Sales_Order_ID, so.Account_ID, so.Contact_Person_ID, \r\n",
                "\tso.Total_Amount, so.Amount_Due, so.Last_Updated\r\n",
                "FROM dbo.SalesOrder as so\r\n",
                "WHERE so.Account_ID IN \r\n",
                "\t(\r\n",
                "\tSELECT a.Account_ID \r\n",
                "\tFROM dbo.SalesOrder as s\r\n",
                "\t\tJOIN dbo.Account as a ON s.Account_ID = a.Account_ID\r\n",
                "\tGROUP BY a.Account_ID\r\n",
                "\tHAVING SUM(Amount_Due) = 0\r\n",
                "\t)\r\n",
                "ORDER BY so.Account_ID\r\n",
                ";"
            ],
            "metadata": {
                "azdata_cell_guid": "0484e832-8393-4b46-811a-befdf0be023e"
            },
            "outputs": [],
            "execution_count": null
        },
        {
            "cell_type": "markdown",
            "source": [
                "Delete those records.\r\n",
                "\r\n",
                "Don't run this yet. First, check out the commented code.\r\n",
                ""
            ],
            "metadata": {
                "azdata_cell_guid": "a60beaf3-2e5f-480b-9294-c45d4f0efbc9"
            }
        },
        {
            "cell_type": "code",
            "source": [
                "DELETE so\r\n",
                "--SELECT Sales_Order_ID, Account_ID, Contact_Person_ID, Total_Amount, Amount_Due, Last_Updated\r\n",
                "FROM dbo.SalesOrder as so\r\n",
                "WHERE so.Account_ID IN \r\n",
                "\t(\r\n",
                "\tSELECT a.Account_ID \r\n",
                "\tFROM dbo.SalesOrder as s\r\n",
                "\t\tJOIN dbo.Account as a ON s.Account_ID = a.Account_ID\r\n",
                "\tGROUP BY a.Account_ID\r\n",
                "\tHAVING SUM(Amount_Due) = 0\r\n",
                "\t)\r\n",
                ";"
            ],
            "metadata": {
                "azdata_cell_guid": "c26db527-d9f3-4d8b-9a31-876fca79de32"
            },
            "outputs": [],
            "execution_count": null
        },
        {
            "cell_type": "markdown",
            "source": [
                "Run original query to confirm those records are gone.\r\n",
                ""
            ],
            "metadata": {
                "azdata_cell_guid": "6e4881d2-8e76-458c-9282-6fa1e5717864"
            }
        },
        {
            "cell_type": "code",
            "source": [
                "SELECT a.Account_ID, a.Account_Name, \r\n",
                "\tSUM(Total_Amount) as Total_Amount, \r\n",
                "\tSUM(Amount_Due) as Amount_Due, \r\n",
                "\tCOUNT(*) as NoOfOrders\r\n",
                "FROM dbo.SalesOrder as so\r\n",
                "\tJOIN dbo.Account as a ON so.Account_ID = a.Account_ID\r\n",
                "GROUP BY a.Account_ID, a.Account_Name\r\n",
                "HAVING SUM(Amount_Due) = 0\r\n",
                ";"
            ],
            "metadata": {
                "azdata_cell_guid": "5db7be5d-6c17-40bf-bb55-273e91122588"
            },
            "outputs": [],
            "execution_count": null
        },
        {
            "cell_type": "markdown",
            "source": [
                "*****\r\n",
                "<h2> End of DELETE demos\r\n",
                "\r\n",
                "****"
            ],
            "metadata": {
                "azdata_cell_guid": "e197b534-e058-4b9f-b9a1-acc49a16ff83"
            }
        }
    ]
}