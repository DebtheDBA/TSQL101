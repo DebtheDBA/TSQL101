{
    "metadata": {
        "kernelspec": {
            "name": "SQL",
            "display_name": "SQL",
            "language": "sql"
        },
        "language_info": {
            "name": "sql",
            "version": ""
        }
    },
    "nbformat_minor": 2,
    "nbformat": 4,
    "cells": [
        {
            "cell_type": "code",
            "source": [
                "Use tempdb;"
            ],
            "metadata": {
                "azdata_cell_guid": "aeba403b-875e-4d6a-a738-b9f59532507c"
            },
            "outputs": [],
            "execution_count": null
        },
        {
            "cell_type": "markdown",
            "source": [
                "*******\r\n",
                "<h1>INSERT\r\n",
                "\r\n",
                "*******"
            ],
            "metadata": {
                "azdata_cell_guid": "3867e015-8f68-47c8-bfd5-7ed93adf42dc"
            }
        },
        {
            "cell_type": "markdown",
            "source": [
                "****\r\n",
                "<h2> Insert based on known information\r\n",
                "\r\n",
                "****\r\n",
                ""
            ],
            "metadata": {
                "azdata_cell_guid": "5a62899d-9f36-48b2-a25f-acdaeac00641"
            }
        },
        {
            "cell_type": "markdown",
            "source": [
                "First, confirm the Person's ID in dbo.Person table."
            ],
            "metadata": {
                "azdata_cell_guid": "1ca8d2e6-aa54-4b64-b031-23810cc76019"
            }
        },
        {
            "cell_type": "code",
            "source": [
                "SELECT Person_ID, Full_Name, Last_Name, First_Name\r\n",
                "FROM dbo.Person\r\n",
                "WHERE Full_Name = 'Selina Kyle'\r\n",
                ";"
            ],
            "metadata": {
                "azdata_cell_guid": "cd5afb17-4eb2-41aa-9cb7-5f7a0274a2ce"
            },
            "outputs": [],
            "execution_count": null
        },
        {
            "cell_type": "markdown",
            "source": [
                "Selina Kyle works at Hedare Beauty.\r\n",
                ""
            ],
            "metadata": {
                "azdata_cell_guid": "d02bab11-cb60-4ec0-811b-681f63e2c88c"
            }
        },
        {
            "cell_type": "code",
            "source": [
                "INSERT INTO dbo.Account (Account_Name, Primary_Contact_Person_ID) \r\n",
                "VALUES ('Hedare Beauty', 4)\r\n",
                ";"
            ],
            "metadata": {
                "azdata_cell_guid": "1d0b34e5-3ef4-4185-aa4a-222f2fc7f377"
            },
            "outputs": [],
            "execution_count": null
        },
        {
            "cell_type": "markdown",
            "source": [
                "Confirm INSERT was successful."
            ],
            "metadata": {
                "azdata_cell_guid": "0b18c02b-241d-41bd-b328-cc7f5524b732"
            }
        },
        {
            "cell_type": "code",
            "source": [
                "SELECT Account_ID, Account_Name, Primary_Contact_Person_ID, Alternate_Contact_Person_ID \r\n",
                "FROM dbo.Account\r\n",
                "WHERE Account_Name = 'Hedare Beauty'\r\n",
                ";"
            ],
            "metadata": {
                "azdata_cell_guid": "d718d192-c37f-435d-9049-4b3bfffab98e"
            },
            "outputs": [],
            "execution_count": null
        },
        {
            "cell_type": "markdown",
            "source": [
                "****\r\n",
                "<h2>Insert multiple known values at once \r\n",
                "\r\n",
                "****\r\n",
                ""
            ],
            "metadata": {
                "azdata_cell_guid": "a3d1f27b-94c3-44bc-a2cc-23ab0e81df29"
            }
        },
        {
            "cell_type": "markdown",
            "source": [
                "Confirm what's in the currency table."
            ],
            "metadata": {
                "azdata_cell_guid": "f2ce8723-26dc-4f30-abd8-aaad36d9b5c2"
            }
        },
        {
            "cell_type": "code",
            "source": [
                "SELECT Currency_ID, Currency_Code, Currency_Name, To_USD, From_USD\r\n",
                "FROM dbo.Currency\r\n",
                ";"
            ],
            "metadata": {
                "azdata_cell_guid": "4ec2e809-47f2-4bec-8129-825e6300869a"
            },
            "outputs": [],
            "execution_count": null
        },
        {
            "cell_type": "markdown",
            "source": [
                "Insert multiple values."
            ],
            "metadata": {
                "azdata_cell_guid": "acf06f3b-5913-48b9-aa0c-93e9f7599455"
            }
        },
        {
            "cell_type": "code",
            "source": [
                "INSERT INTO dbo.Currency (Currency_Code, Currency_Name, To_USD, From_USD)\r\n",
                "VALUES \r\n",
                "\t('CHF', 'Swiss Franc', 0.994767, 1.005260),\r\n",
                "\t('MYR', 'Malaysian Ringgit', 4.329460, 0.230976),\r\n",
                "\t('JPY', 'Japanese Yen', 112.880577, 0.008859),\r\n",
                "\t('CNY', 'Chinese Yuan Renminbi', 6.897558, 0.144979)\r\n",
                ";"
            ],
            "metadata": {
                "azdata_cell_guid": "f3f86768-8b68-46a6-848e-1b8818f5e16b"
            },
            "outputs": [],
            "execution_count": null
        },
        {
            "cell_type": "markdown",
            "source": [
                "Confirm the INSERT\r\n",
                ""
            ],
            "metadata": {
                "azdata_cell_guid": "445d7a98-3b85-431f-a800-4cd1f4e0ee62"
            }
        },
        {
            "cell_type": "code",
            "source": [
                "SELECT Currency_ID, Currency_Code, Currency_Name, To_USD, From_USD\r\n",
                "FROM dbo.Currency\r\n",
                ";"
            ],
            "metadata": {
                "azdata_cell_guid": "27961caf-df1f-45f2-90b3-35d9f36a6381"
            },
            "outputs": [],
            "execution_count": null
        },
        {
            "cell_type": "markdown",
            "source": [
                "******\r\n",
                "<h2>Insert based on a SELECT statement\r\n",
                "\r\n",
                "******"
            ],
            "metadata": {
                "azdata_cell_guid": "dc316b80-9d21-4294-9e73-1c2bff30d50f"
            }
        },
        {
            "cell_type": "markdown",
            "source": [
                "Select the data we want to insert.\r\n",
                ""
            ],
            "metadata": {
                "azdata_cell_guid": "ff7eaa3d-cc73-4343-a9f6-70fe95587dcd"
            }
        },
        {
            "cell_type": "code",
            "source": [
                "SELECT Full_Name, Person_ID\r\n",
                "FROM dbo.Person\r\n",
                "WHERE Last_Name = 'Prince'\r\n",
                ";"
            ],
            "metadata": {
                "azdata_cell_guid": "9772c404-b58a-4387-8acd-7a13ff02dbe7"
            },
            "outputs": [],
            "execution_count": null
        },
        {
            "cell_type": "markdown",
            "source": [
                "Diana Prince works at Amazon."
            ],
            "metadata": {
                "azdata_cell_guid": "3e996774-fdae-43c5-9a3d-9246c0b2c539"
            }
        },
        {
            "cell_type": "code",
            "source": [
                "INSERT INTO dbo.Account (Account_Name, Primary_Contact_Person_ID)\r\n",
                "SELECT 'Amazon' as Account_Name,\r\n",
                "\tPerson_ID\r\n",
                "FROM dbo.Person\r\n",
                "WHERE Last_Name = 'Prince'\r\n",
                ";"
            ],
            "metadata": {
                "azdata_cell_guid": "2c05b98f-a4d5-471a-ae93-7d52129d18d0"
            },
            "outputs": [],
            "execution_count": null
        },
        {
            "cell_type": "markdown",
            "source": [
                "Confirm the inserts for the new accounts created in both statements above.\r\n",
                ""
            ],
            "metadata": {
                "azdata_cell_guid": "e14548e6-acb0-42ac-90f1-3f5417249e71"
            }
        },
        {
            "cell_type": "code",
            "source": [
                "SELECT Account_ID, Account_Name, Primary_Contact_Person_ID, Alternate_Contact_Person_ID\r\n",
                "FROM dbo.Account\r\n",
                "WHERE Account_ID > 7\r\n",
                ";"
            ],
            "metadata": {
                "azdata_cell_guid": "8cac68b1-ae2c-4ec2-8ccd-095a84fc7ca6"
            },
            "outputs": [],
            "execution_count": null
        },
        {
            "cell_type": "markdown",
            "source": [
                "**** \r\n",
                "<h2>Insert multiple records\r\n",
                "\r\n",
                "****\r\n",
                ""
            ],
            "metadata": {
                "azdata_cell_guid": "f721d261-672f-4f93-ab02-37a3ef7fb5c4"
            }
        },
        {
            "cell_type": "markdown",
            "source": [
                "Let's create some sales orders for accounts determine the records we want to insert.\r\n",
                "\r\n",
                "Note the WHERE clause...\r\n",
                ""
            ],
            "metadata": {
                "azdata_cell_guid": "1f56304e-40fa-46eb-a293-60d52dad8599"
            }
        },
        {
            "cell_type": "code",
            "source": [
                "SELECT \r\n",
                "\ta.Account_ID, \r\n",
                "\ta.Primary_Contact_Person_ID, \r\n",
                "\t-- setting the total amount to be the account id multiplied by 100\r\n",
                "\ta.Account_ID * 100 as Total_Amount, \r\n",
                "\t-- creating amount due values using the account and person IDs\r\n",
                "\tCASE WHEN (a.Account_ID * 100)/Primary_Contact_Person_ID > (a.Account_ID * 100)\r\n",
                "\t\tTHEN a.Account_ID * 100\r\n",
                "\t\tELSE (a.Account_ID * 100)/Primary_Contact_Person_ID\r\n",
                "\tEND as Amount_Due, \r\n",
                "\t-- setting the last updated value to be the current date and time\r\n",
                "\tgetdate() as Last_Updated\r\n",
                "FROM dbo.Account as a\r\n",
                "\tLEFT JOIN dbo.SalesOrder as so ON a.Account_ID = so.Account_ID\r\n",
                "WHERE so.Sales_Order_ID IS NULL\r\n",
                ";"
            ],
            "metadata": {
                "azdata_cell_guid": "d17d3c08-64ac-4d42-8d23-a94ef610a6ea"
            },
            "outputs": [],
            "execution_count": null
        },
        {
            "cell_type": "markdown",
            "source": [
                "INSERT the records.\r\n",
                "\r\n",
                "Run this dataset twice - first with the INSERT statement commented out and then with it uncommented."
            ],
            "metadata": {
                "azdata_cell_guid": "21ffe26b-a75d-49f5-b0ff-7c911c7f2215"
            }
        },
        {
            "cell_type": "code",
            "source": [
                "INSERT INTO dbo.SalesOrder\r\n",
                "\t(Account_ID, Contact_Person_ID, Total_Amount, Amount_Due, Last_Updated)\r\n",
                "SELECT \r\n",
                "\ta.Account_ID, \r\n",
                "\ta.Primary_Contact_Person_ID as Contact_Person_ID, \r\n",
                "\ta.Account_ID * 100 as Total_Amount, \r\n",
                "\tCASE WHEN (a.Account_ID * 100)/Primary_Contact_Person_ID > (a.Account_ID * 100)\r\n",
                "\t\tTHEN a.Account_ID * 100\r\n",
                "\t\tELSE (a.Account_ID * 100)/Primary_Contact_Person_ID\r\n",
                "\tEND as Amount_Due, \r\n",
                "\tgetdate() as Last_Updated\r\n",
                "FROM dbo.Account as a\r\n",
                "\tLEFT JOIN dbo.SalesOrder as so ON a.Account_ID = so.Account_ID\r\n",
                "WHERE so.Sales_Order_ID IS NULL\r\n",
                ";"
            ],
            "metadata": {
                "azdata_cell_guid": "d49a8956-2328-4276-ab10-e30c3862ae27"
            },
            "outputs": [],
            "execution_count": null
        },
        {
            "cell_type": "markdown",
            "source": [
                "Confirm new orders.\r\n",
                ""
            ],
            "metadata": {
                "azdata_cell_guid": "6418c1cf-a39b-4be7-bc50-6a1df74f9d3b"
            }
        },
        {
            "cell_type": "code",
            "source": [
                "SELECT Account_ID, Contact_Person_ID, Total_Amount, Amount_Due, Last_Updated\r\n",
                "FROM dbo.SalesOrder\r\n",
                "WHERE Last_Updated > convert(varchar, getdate(), 101)\r\n",
                ";"
            ],
            "metadata": {
                "azdata_cell_guid": "869105db-957f-4372-8cb8-75fd9138175a"
            },
            "outputs": [],
            "execution_count": null
        },
        {
            "cell_type": "markdown",
            "source": [
                "****\r\n",
                "<h2>End of INSERT demos\r\n",
                "\r\n",
                "****"
            ],
            "metadata": {
                "azdata_cell_guid": "277d521e-5a7e-45bd-a413-beb07d54be17"
            }
        }
    ]
}