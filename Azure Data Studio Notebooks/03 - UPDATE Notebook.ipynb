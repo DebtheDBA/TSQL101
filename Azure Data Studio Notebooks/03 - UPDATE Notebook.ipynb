{
    "metadata": {
        "kernelspec": {
            "name": "SQL",
            "display_name": "SQL",
            "language": "sql"
        },
        "language_info": {
            "name": "sql",
            "version": ""
        }
    },
    "nbformat_minor": 2,
    "nbformat": 4,
    "cells": [
        {
            "cell_type": "code",
            "source": [
                "Use tempdb;"
            ],
            "metadata": {
                "azdata_cell_guid": "79f71e5d-c068-4025-aff5-4ffb2eaf3201"
            },
            "outputs": [],
            "execution_count": null
        },
        {
            "cell_type": "markdown",
            "source": [
                "****\r\n",
                "<h1>UPDATE\r\n",
                " \r\n",
                "****"
            ],
            "metadata": {
                "azdata_cell_guid": "624c1aec-0aae-4e95-b1ce-c809fa61f04b"
            }
        },
        {
            "cell_type": "markdown",
            "source": [
                "***\r\n",
                "<h2>UPDATE single record on single piece of known information\r\n",
                "\r\n",
                "****\r\n",
                "\r\n",
                ""
            ],
            "metadata": {
                "azdata_cell_guid": "95de0921-4219-4a28-aff4-03f75bfa8f9a"
            }
        },
        {
            "cell_type": "markdown",
            "source": [
                "Confirm the initial data."
            ],
            "metadata": {
                "azdata_cell_guid": "0b6f3c67-37bb-4262-bfa7-fea4c147948d"
            }
        },
        {
            "cell_type": "code",
            "source": [
                "SELECT a.Account_ID, a.Account_Name, a.Primary_Contact_Person_ID, a.Alternate_Contact_Person_ID \r\n",
                "FROM dbo.Account as a\r\n",
                "WHERE a.Account_Name = 'Marvel'\r\n",
                ";"
            ],
            "metadata": {
                "azdata_cell_guid": "03c8b42d-3848-450a-b5fc-58afaa166cab"
            },
            "outputs": [],
            "execution_count": null
        },
        {
            "cell_type": "markdown",
            "source": [
                "Update the record\r\n",
                ""
            ],
            "metadata": {
                "azdata_cell_guid": "0282316a-58eb-4d97-a448-9a523f571397"
            }
        },
        {
            "cell_type": "code",
            "source": [
                "UPDATE dbo.Account\r\n",
                "SET Account_Name = 'S.H.I.E.L.D.'\r\n",
                "WHERE Account_Name = 'Marvel'\r\n",
                ";"
            ],
            "metadata": {
                "azdata_cell_guid": "e11d2290-918c-4b01-b0aa-f4b922e4cad6"
            },
            "outputs": [],
            "execution_count": null
        },
        {
            "cell_type": "markdown",
            "source": [
                "Confirm the update was successful.\r\n",
                ""
            ],
            "metadata": {
                "azdata_cell_guid": "5eb91b1c-a8e9-4d73-98b5-7e57a9a1bd4a"
            }
        },
        {
            "cell_type": "code",
            "source": [
                "SELECT a.Account_ID, a.Account_Name, a.Primary_Contact_Person_ID, a.Alternate_Contact_Person_ID \r\n",
                "FROM dbo.Account as a\r\n",
                "WHERE a.Account_Name = 'S.H.I.E.L.D.'\r\n",
                ";"
            ],
            "metadata": {
                "azdata_cell_guid": "6ab68cde-c86d-403f-a606-d81a35116fad"
            },
            "outputs": [],
            "execution_count": null
        },
        {
            "cell_type": "markdown",
            "source": [
                "****** \r\n",
                "<h2>UPDATE multiple columns\r\n",
                "\r\n",
                "******\r\n",
                ""
            ],
            "metadata": {
                "azdata_cell_guid": "70dc2acb-cdb6-4410-bdb1-88e8ed34f2df"
            }
        },
        {
            "cell_type": "markdown",
            "source": [
                "Confirm the information."
            ],
            "metadata": {
                "azdata_cell_guid": "6342ffad-8cf2-4172-ae39-e5d025a7c891"
            }
        },
        {
            "cell_type": "code",
            "source": [
                "SELECT p.Person_ID, p.Full_Name, p.Last_Name, p.First_Name\r\n",
                "FROM dbo.Person as p\r\n",
                "WHERE p.Full_Name = 'Selina Kyle'\r\n",
                ";"
            ],
            "metadata": {
                "azdata_cell_guid": "97937ecb-403d-4481-90a4-cf555aa9bc5b"
            },
            "outputs": [],
            "execution_count": null
        },
        {
            "cell_type": "markdown",
            "source": [
                "Run the UPDATE statement\r\n",
                ""
            ],
            "metadata": {
                "azdata_cell_guid": "a72123fe-8a4f-457e-bc25-58afcbd91be7"
            }
        },
        {
            "cell_type": "code",
            "source": [
                "UPDATE p\r\n",
                "SET Last_Name = p.First_Name,\r\n",
                "\tFirst_Name = p.Last_Name\r\n",
                "FROM dbo.Person as p\r\n",
                "WHERE p.Full_Name = 'Selina Kyle'\r\n",
                ";"
            ],
            "metadata": {
                "azdata_cell_guid": "3d350f4a-2b1d-4025-9725-e2a0d9523f91"
            },
            "outputs": [],
            "execution_count": null
        },
        {
            "cell_type": "markdown",
            "source": [
                "Confirm the update\r\n",
                ""
            ],
            "metadata": {
                "azdata_cell_guid": "1fb84bf9-22a7-4eae-a799-79089b347a75"
            }
        },
        {
            "cell_type": "code",
            "source": [
                "SELECT p.Person_ID, p.Full_Name, p.Last_Name, p.First_Name\r\n",
                "FROM dbo.Person as p\r\n",
                "WHERE p.Full_Name = 'Selina Kyle'\r\n",
                ";"
            ],
            "metadata": {
                "azdata_cell_guid": "442d3d7d-6fc1-49d3-af29-7bdae2712dd4"
            },
            "outputs": [],
            "execution_count": null
        },
        {
            "cell_type": "markdown",
            "source": [
                "***** \r\n",
                "<h2>UPDATE multiple rows at the same time\r\n",
                "\r\n",
                "*****\r\n",
                ""
            ],
            "metadata": {
                "azdata_cell_guid": "58e622e9-07dc-4f65-9bbd-870512e5e54f"
            }
        },
        {
            "cell_type": "markdown",
            "source": [
                "We want to update the records where the amount due is the same as the total amount.\r\n",
                ""
            ],
            "metadata": {
                "azdata_cell_guid": "e500ed5b-a452-474c-96bb-d01908e03948"
            }
        },
        {
            "cell_type": "code",
            "source": [
                "SELECT Sales_Order_ID, Account_ID, Contact_Person_ID, \r\n",
                "\tTotal_Amount, Amount_Due, Last_Updated\r\n",
                "FROM dbo.SalesOrder\r\n",
                "WHERE Total_Amount = Amount_Due\r\n",
                ";"
            ],
            "metadata": {
                "azdata_cell_guid": "315f8556-4393-4b19-bc12-30f4d37c9940"
            },
            "outputs": [],
            "execution_count": null
        },
        {
            "cell_type": "markdown",
            "source": [
                "Update with a known value.\r\n",
                ""
            ],
            "metadata": {
                "azdata_cell_guid": "4da3a839-2382-4ef9-b324-cb096da18374"
            }
        },
        {
            "cell_type": "code",
            "source": [
                "UPDATE so\r\n",
                "SET Amount_Due = 0,\r\n",
                "\tLast_Updated = getdate()\r\n",
                "FROM dbo.SalesOrder as so\r\n",
                "WHERE Total_Amount = Amount_Due\r\n",
                ";"
            ],
            "metadata": {
                "azdata_cell_guid": "ffbc69cc-93fc-4910-bf7d-1983bcf41001"
            },
            "outputs": [],
            "execution_count": null
        },
        {
            "cell_type": "markdown",
            "source": [
                "Confirm the update."
            ],
            "metadata": {
                "azdata_cell_guid": "c318f69c-6277-4f43-8e2b-3fdd1e63901e"
            }
        },
        {
            "cell_type": "code",
            "source": [
                "SELECT Sales_Order_ID, Account_ID, Contact_Person_ID, \r\n",
                "\tTotal_Amount, Amount_Due, Last_Updated\r\n",
                "FROM dbo.SalesOrder\r\n",
                "WHERE Amount_Due = 0\r\n",
                ";"
            ],
            "metadata": {
                "azdata_cell_guid": "3b33a8ee-8ccd-4ba0-aec9-cc9412fe9783"
            },
            "outputs": [],
            "execution_count": null
        },
        {
            "cell_type": "markdown",
            "source": [
                "For sales orders where less than $200 is due, update the amount due to either 0 or $100 less.\r\n",
                "\r\n",
                "First, I want to see the records affected and what the new amount due would be\r\n",
                ""
            ],
            "metadata": {
                "azdata_cell_guid": "099f9903-d486-4ead-b97d-2273a027acf1"
            }
        },
        {
            "cell_type": "code",
            "source": [
                "SELECT Sales_Order_ID, a.Account_Name, p.Full_Name, \r\n",
                "\tTotal_Amount, Amount_Due, Last_Updated,\r\n",
                "\tCASE WHEN so.Total_Amount < 400 THEN 0 \r\n",
                "\t\t\t\t\tELSE Amount_Due - 100\r\n",
                "\t\t\t\tEND as New_Amount_Due\r\n",
                "FROM dbo.SalesOrder as so\r\n",
                "\tJOIN dbo.Account as a ON so.Account_ID = a.Account_ID\r\n",
                "\tJOIN dbo.Person as p ON a.Primary_Contact_Person_ID = p.Person_ID\r\n",
                "WHERE so.Amount_Due <= 200\r\n",
                "AND so.Amount_Due > 0\r\n",
                ";"
            ],
            "metadata": {
                "azdata_cell_guid": "905173c2-6aee-4ba3-963b-e66a280a9456"
            },
            "outputs": [],
            "execution_count": null
        },
        {
            "cell_type": "markdown",
            "source": [
                "Update records. But first, note what's in the comment....\r\n",
                ""
            ],
            "metadata": {
                "azdata_cell_guid": "bbfee37e-c778-497f-99ec-ced237538351"
            }
        },
        {
            "cell_type": "code",
            "source": [
                "UPDATE so\r\n",
                "SET Last_Updated = getdate(),\r\n",
                "\tAmount_Due = CASE WHEN so.Total_Amount < 400 THEN 0 \r\n",
                "\t\t\t\t\tELSE Amount_Due - 100\r\n",
                "\t\t\t\tEND\r\n",
                "-- SELECT so.Sales_Order_ID, a.Account_ID, p.Full_Name, CASE WHEN so.Total_Amount < 400 THEN 0 ELSE Amount_Due - 100 END\r\n",
                "FROM dbo.SalesOrder as so\r\n",
                "\tJOIN dbo.Account as a ON so.Account_ID = a.Account_ID\r\n",
                "\tJOIN dbo.Person as p ON a.Primary_Contact_Person_ID = p.Person_ID\r\n",
                "WHERE so.Amount_Due <= 200\r\n",
                "AND so.Amount_Due > 0\r\n",
                ";\r\n",
                ""
            ],
            "metadata": {
                "azdata_cell_guid": "3241037c-4017-48ee-9a39-e725706f13d0"
            },
            "outputs": [],
            "execution_count": null
        },
        {
            "cell_type": "markdown",
            "source": [
                "Confirm the update.\r\n",
                ""
            ],
            "metadata": {
                "azdata_cell_guid": "85f13e11-5b29-4f6c-a821-a17a1576e1f0"
            }
        },
        {
            "cell_type": "code",
            "source": [
                "SELECT Account_ID, Contact_Person_ID, Total_Amount, Amount_Due, Last_Updated\r\n",
                "FROM dbo.SalesOrder\r\n",
                "WHERE Last_Updated > convert(varchar(10), getdate(), 101)\r\n",
                "ORDER BY Last_Updated DESC\r\n",
                ";\r\n",
                ""
            ],
            "metadata": {
                "azdata_cell_guid": "b4b20dd1-acdd-42c2-914f-3102dba40c1b"
            },
            "outputs": [],
            "execution_count": null
        },
        {
            "cell_type": "markdown",
            "source": [
                "**** \r\n",
                "<h2>End of UPDATE demos\r\n",
                "\r\n",
                "****"
            ],
            "metadata": {
                "azdata_cell_guid": "1c0a47a9-f5e3-4233-8c5a-4dd97cddcbac"
            }
        }
    ]
}