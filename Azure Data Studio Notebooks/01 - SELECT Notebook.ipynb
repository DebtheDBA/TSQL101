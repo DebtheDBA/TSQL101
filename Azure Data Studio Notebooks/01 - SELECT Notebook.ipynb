{
    "metadata": {
        "kernelspec": {
            "name": "SQL",
            "display_name": "SQL",
            "language": "sql"
        },
        "language_info": {
            "name": "sql",
            "version": ""
        }
    },
    "nbformat_minor": 2,
    "nbformat": 4,
    "cells": [
        {
            "cell_type": "code",
            "source": [
                "Use tempdb;"
            ],
            "metadata": {
                "azdata_cell_guid": "44c499e7-cd97-4a1b-ab13-2a2124c7ded8",
                "tags": []
            },
            "outputs": [],
            "execution_count": null
        },
        {
            "cell_type": "markdown",
            "source": [
                "*****************\r\n",
                "\r\n",
                "<h1>SELECT\r\n",
                "\r\n",
                "\r\n",
                "*****************\r\n",
                "\r\n",
                ""
            ],
            "metadata": {
                "azdata_cell_guid": "449cbdf4-a0ec-48d0-931b-f9823f23dd53"
            }
        },
        {
            "cell_type": "markdown",
            "source": [
                "\r\n",
                "<h2>Do <b>NOT</b> use the following syntax in Production!!!!!!</h2>\r\n",
                "\r\n",
                "SELECT * is a shortcut for all the columns for the table(s). This is good when testing to see what columns are available.\r\n",
                "\r\n",
                "<h2>As I said: Do <b>NOT</b> use the following syntax in Production!!!!!!</h2>\r\n",
                ""
            ],
            "metadata": {
                "azdata_cell_guid": "8cea20f7-9d40-45a4-aeac-8e9022b6bda7"
            }
        },
        {
            "cell_type": "code",
            "source": [
                "SELECT *\r\n",
                "FROM dbo.Person\r\n",
                "WHERE Last_Name = 'Prince'\r\n",
                ";"
            ],
            "metadata": {
                "azdata_cell_guid": "ef3f59af-4a02-4466-a53b-78f7008af0ca",
                "tags": []
            },
            "outputs": [],
            "execution_count": null
        },
        {
            "cell_type": "markdown",
            "source": [
                "\r\n",
                "Let's try this instead:\r\n",
                ""
            ],
            "metadata": {
                "azdata_cell_guid": "1e0fe22c-b661-418d-ab6c-9e1e67132e1a"
            }
        },
        {
            "cell_type": "code",
            "source": [
                "SELECT Person_ID, Full_Name, First_Name, Last_Name\r\n",
                "FROM dbo.Person\r\n",
                "WHERE Last_Name = 'Prince'\r\n",
                ";"
            ],
            "metadata": {
                "azdata_cell_guid": "d292632d-6969-4f41-996f-a0afac298d66",
                "tags": []
            },
            "outputs": [],
            "execution_count": null
        },
        {
            "cell_type": "markdown",
            "source": [
                "Let's just select everything from the table. \r\n",
                ""
            ],
            "metadata": {
                "azdata_cell_guid": "810eb810-5f27-4f9b-acde-3dbf894517b4"
            }
        },
        {
            "cell_type": "code",
            "source": [
                "SELECT Person_ID, Full_Name, First_Name, Last_Name\r\n",
                "FROM dbo.Person\r\n",
                "WHERE Person_ID > 0\r\n",
                ";\r\n",
                ""
            ],
            "metadata": {
                "azdata_cell_guid": "209f4d5b-9f0b-4ff9-8ac5-95c91c2d5a93",
                "tags": []
            },
            "outputs": [],
            "execution_count": null
        },
        {
            "cell_type": "markdown",
            "source": [
                "And let's take a look at another table as well:"
            ],
            "metadata": {
                "azdata_cell_guid": "77426c88-f860-48a1-8a2d-aaa328533e22"
            }
        },
        {
            "cell_type": "code",
            "source": [
                "SELECT Account_ID, Account_Name, \r\n",
                "\tPrimary_Contact_Person_ID, Alternate_Contact_Person_ID \r\n",
                "FROM dbo.Account\r\n",
                "WHERE Account_ID < 10\r\n",
                ";"
            ],
            "metadata": {
                "azdata_cell_guid": "1d0762dc-b41a-43f6-96ca-2c5ca3aacfdf",
                "tags": []
            },
            "outputs": [],
            "execution_count": null
        },
        {
            "cell_type": "markdown",
            "source": [
                "*********************\r\n",
                "<h2>JOINs\r\n",
                "\r\n",
                "*********************\r\n",
                ""
            ],
            "metadata": {
                "azdata_cell_guid": "96d6a455-ec3c-49cf-9b69-6d0e70191ea4"
            }
        },
        {
            "cell_type": "markdown",
            "source": [
                "<b>INNER JOIN:</b>\r\n",
                "Find out the name for the Primary Contact Person"
            ],
            "metadata": {
                "azdata_cell_guid": "e6266d5e-b579-48b4-904a-917d9563f012"
            }
        },
        {
            "cell_type": "code",
            "source": [
                "SELECT a.Account_ID, \r\n",
                "\ta.Account_Name, \r\n",
                "\ta.Primary_Contact_Person_ID, \r\n",
                "\ta.Alternate_Contact_Person_ID,\r\n",
                "\tp.Full_Name as Primary_Contact_Person\r\n",
                "FROM dbo.Account as a\t\r\n",
                "\tJOIN dbo.Person as p ON a.Primary_Contact_Person_ID = p.Person_ID\r\n",
                ";"
            ],
            "metadata": {
                "azdata_cell_guid": "b4e030ec-ec7e-4ba4-b420-9c7f3b8b5406",
                "tags": []
            },
            "outputs": [],
            "execution_count": null
        },
        {
            "cell_type": "markdown",
            "source": [
                "Find out the name for the Alternate Contact Person:"
            ],
            "metadata": {
                "azdata_cell_guid": "af6b28ac-850b-4f59-84d6-2ca2f410580e"
            }
        },
        {
            "cell_type": "code",
            "source": [
                "SELECT a.Account_ID, \r\n",
                "\ta.Account_Name, \r\n",
                "\ta.Primary_Contact_Person_ID, \r\n",
                "\ta.Alternate_Contact_Person_ID,\r\n",
                "\tp.Full_Name as Alternate_Contact_Person\r\n",
                "FROM dbo.Account as a\t\r\n",
                "\tJOIN dbo.Person as p ON a.Alternate_Contact_Person_ID = p.Person_ID\r\n",
                ";"
            ],
            "metadata": {
                "azdata_cell_guid": "db1499dd-8906-4bcd-a3e5-327fc605fdab",
                "tags": []
            },
            "outputs": [],
            "execution_count": null
        },
        {
            "cell_type": "markdown",
            "source": [
                "<b>LEFT JOIN:</b> Show the Account info and the Alternate Contact Person, if there is one.\r\n",
                ""
            ],
            "metadata": {
                "azdata_cell_guid": "78315478-b804-4c8c-8205-b414683529b5"
            }
        },
        {
            "cell_type": "code",
            "source": [
                "SELECT a.Account_ID, \r\n",
                "\ta.Account_Name, \r\n",
                "\ta.Primary_Contact_Person_ID, \r\n",
                "\ta.Alternate_Contact_Person_ID,\r\n",
                "\tp.Full_Name as Alternate_Contact_Person\r\n",
                "FROM dbo.Account as a\t\r\n",
                "\tLEFT JOIN dbo.Person as p ON a.Alternate_Contact_Person_ID = p.Person_ID\r\n",
                ";\r\n",
                ""
            ],
            "metadata": {
                "azdata_cell_guid": "1e82e8f3-fa31-4454-8fad-3bb06009d417",
                "tags": []
            },
            "outputs": [],
            "execution_count": null
        },
        {
            "cell_type": "markdown",
            "source": [
                "<b>RIGHT JOIN:</b> Show the Person and the Account info if they are an alternate contact.\r\n",
                ""
            ],
            "metadata": {
                "azdata_cell_guid": "8c9e4a6c-1fd9-416d-b76c-4ed10154620e"
            }
        },
        {
            "cell_type": "code",
            "source": [
                "SELECT a.Account_ID, \r\n",
                "\ta.Account_Name, \r\n",
                "\ta.Primary_Contact_Person_ID, \r\n",
                "\ta.Alternate_Contact_Person_ID,\r\n",
                "\tp.Full_Name as Person_Name\r\n",
                "FROM dbo.Account as a\t\r\n",
                "\tRIGHT JOIN dbo.Person as p ON a.Alternate_Contact_Person_ID = p.Person_ID\r\n",
                ";"
            ],
            "metadata": {
                "azdata_cell_guid": "0a4ba4f2-8b1d-47ba-a7b6-0a19cb5b95f4",
                "tags": []
            },
            "outputs": [],
            "execution_count": null
        },
        {
            "cell_type": "markdown",
            "source": [
                "<b>FULL OUTER JOIN:</b> Show me all the Person and Account information"
            ],
            "metadata": {
                "azdata_cell_guid": "b9799163-efd1-4859-9369-2e2b843e040e"
            }
        },
        {
            "cell_type": "code",
            "source": [
                "SELECT a.Account_ID, \r\n",
                "\ta.Account_Name, \r\n",
                "\ta.Primary_Contact_Person_ID, \r\n",
                "\ta.Alternate_Contact_Person_ID,\r\n",
                "\tp.Full_Name as Person_Name\r\n",
                "FROM dbo.Account as a\t\r\n",
                "\tFULL OUTER JOIN dbo.Person as p ON a.Alternate_Contact_Person_ID = p.Person_ID\r\n",
                ";\r\n",
                ""
            ],
            "metadata": {
                "azdata_cell_guid": "cfa945cd-276b-4466-8fe5-4f80c8070bc6",
                "tags": []
            },
            "outputs": [],
            "execution_count": null
        },
        {
            "cell_type": "markdown",
            "source": [
                "Why we would use FULL OUTER JOIN?"
            ],
            "metadata": {
                "azdata_cell_guid": "313a84c4-ff60-4ddf-8fa1-c064321d15a6"
            }
        },
        {
            "cell_type": "code",
            "source": [
                "SELECT \r\n",
                "\tCASE WHEN p.Person_ID IS NOT NULL THEN p.Full_Name \r\n",
                "\t\tELSE a.Account_Name \r\n",
                "\tEND as Person_Or_Account,\r\n",
                "\tCASE WHEN p.Person_ID IS NULL THEN 1 \r\n",
                "\t\tELSE 0 \r\n",
                "\tEND as Is_Account,\r\n",
                "\tCASE WHEN p.Person_ID IS NOT NULL THEN 1 \r\n",
                "\t\tELSE 0 \r\n",
                "\tEND as Is_Person,\r\n",
                "\tCASE WHEN a.Alternate_Contact_Person_ID IS NOT NULL THEN 1 \r\n",
                "\t\tELSE 0 \r\n",
                "\tEND as Is_Alternate_Contact\r\n",
                "FROM dbo.Account as a\t\r\n",
                "\tFULL OUTER JOIN dbo.Person as p ON a.Alternate_Contact_Person_ID = p.Person_ID\r\n",
                ";"
            ],
            "metadata": {
                "azdata_cell_guid": "d171372f-8299-4d9d-812e-14719be2e157",
                "tags": []
            },
            "outputs": [],
            "execution_count": null
        },
        {
            "cell_type": "markdown",
            "source": [
                "<b>CROSS JOIN:</b> I want to see the combination of all the different currencies\r\n",
                "\r\n",
                ""
            ],
            "metadata": {
                "azdata_cell_guid": "70334092-effa-4c20-a714-abcb80349ec0"
            }
        },
        {
            "cell_type": "code",
            "source": [
                "-- Show the currencies that we have\r\n",
                "SELECT Currency_ID, Currency_Code, Currency_Name, To_USD\r\n",
                "FROM dbo.Currency\r\n",
                ";"
            ],
            "metadata": {
                "azdata_cell_guid": "aa8a2ec8-8c90-47e2-a2a1-d1fb97567c37",
                "tags": []
            },
            "outputs": [],
            "execution_count": null
        },
        {
            "cell_type": "markdown",
            "source": [
                "Notice the JOIN criteria..."
            ],
            "metadata": {
                "azdata_cell_guid": "2d6ca270-8fc9-4b98-9aac-933af069733d"
            }
        },
        {
            "cell_type": "code",
            "source": [
                "SELECT LeftC.Currency_ID, LeftC.Currency_Code, LeftC.Currency_Name, \r\n",
                "\tRightC.Currency_ID, RightC.Currency_Code, RightC.Currency_Name\r\n",
                "FROM dbo.Currency as LeftC\r\n",
                "\tCROSS JOIN dbo.Currency as RightC\r\n",
                ";"
            ],
            "metadata": {
                "azdata_cell_guid": "5f09165e-227d-4af9-a882-cc71f9fce864",
                "tags": []
            },
            "outputs": [],
            "execution_count": null
        },
        {
            "cell_type": "markdown",
            "source": [
                "Why would I want to use a CROSS JOIN?\r\n",
                "\r\n",
                "Let's say I want to see how to convert the currencies to each other.\r\n",
                ""
            ],
            "metadata": {
                "azdata_cell_guid": "88afd728-adbe-4727-8cb9-4293efb0cbb8"
            }
        },
        {
            "cell_type": "code",
            "source": [
                "SELECT LeftC.Currency_Code + '/' + RightC.Currency_Code as Currency_Conversion, \r\n",
                "\tLeftC.Currency_Name + ' to ' + RightC.Currency_Name as Currency_Conversion_Desc,\r\n",
                "\tLeftC.To_USD/RightC.To_USD as To_Curr_Rate, \r\n",
                "\tLeftC.From_USD/RightC.From_USD as From_Curr_Rate\r\n",
                "FROM dbo.Currency as LeftC\r\n",
                "\tCROSS JOIN dbo.Currency as RightC\r\n",
                "WHERE RightC.Currency_Code <> LeftC.Currency_Code \r\n",
                ";\r\n",
                ""
            ],
            "metadata": {
                "azdata_cell_guid": "3f75f4bb-ac9f-4cf2-8efd-7d7c5a059118",
                "tags": []
            },
            "outputs": [],
            "execution_count": null
        },
        {
            "cell_type": "markdown",
            "source": [
                "Just show the conversions for Euro.\r\n",
                "\r\n",
                "Notice the effect of the WHERE clause..."
            ],
            "metadata": {
                "azdata_cell_guid": "e364d00b-ce93-429f-b660-aa7066d3175b"
            }
        },
        {
            "cell_type": "code",
            "source": [
                "SELECT LeftC.Currency_Code + '/' + RightC.Currency_Code as Currency_Conversion, \r\n",
                "\tLeftC.Currency_Name + ' to ' + RightC.Currency_Name as Currency_Conversion_Desc,\r\n",
                "\tLeftC.To_USD/RightC.To_USD as To_Curr_Rate, \r\n",
                "\tLeftC.From_USD/RightC.From_USD as From_Curr_Rate\r\n",
                "FROM dbo.Currency as LeftC\r\n",
                "\tCROSS JOIN dbo.Currency as RightC\r\n",
                "WHERE RightC.Currency_Code <> LeftC.Currency_Code \r\n",
                "AND LeftC.Currency_Code = 'EUR'\r\n",
                ";"
            ],
            "metadata": {
                "azdata_cell_guid": "026273ed-7ba5-4c9b-bd3f-50f47ee0d58e",
                "tags": []
            },
            "outputs": [],
            "execution_count": null
        },
        {
            "cell_type": "markdown",
            "source": [
                "Now just show the conversions to Euro."
            ],
            "metadata": {
                "azdata_cell_guid": "a7358702-b4d2-485b-a29c-002e04f83d9f"
            }
        },
        {
            "cell_type": "code",
            "source": [
                "SELECT LeftC.Currency_Code + '/' + RightC.Currency_Code as Currency_Conversion, \r\n",
                "\tLeftC.Currency_Name + ' to ' + RightC.Currency_Name as Currency_Conversion_Desc,\r\n",
                "\tLeftC.To_USD/RightC.To_USD as To_Curr_Rate, \r\n",
                "\tLeftC.From_USD/RightC.From_USD as From_Curr_Rate\r\n",
                "FROM dbo.Currency as LeftC\r\n",
                "\tCROSS JOIN dbo.Currency as RightC\r\n",
                "WHERE RightC.Currency_Code <> LeftC.Currency_Code \r\n",
                "AND RightC.Currency_Code = 'EUR'\r\n",
                ";"
            ],
            "metadata": {
                "azdata_cell_guid": "cd8b164a-4d77-487e-99f7-d0d81f988fd4",
                "tags": []
            },
            "outputs": [],
            "execution_count": null
        },
        {
            "cell_type": "markdown",
            "source": [
                "*****************\r\n",
                "<h2>GROUP BY, HAVING, and ORDER BY\r\n",
                "\r\n",
                "*****************\r\n",
                ""
            ],
            "metadata": {
                "azdata_cell_guid": "ed5fe585-01bb-405e-ba44-c95ea204c9cc"
            }
        },
        {
            "cell_type": "markdown",
            "source": [
                "Let's see what's in this new table..."
            ],
            "metadata": {
                "azdata_cell_guid": "de760975-4819-433d-a8eb-456e5bf37674"
            }
        },
        {
            "cell_type": "code",
            "source": [
                "SELECT Sales_Order_ID, Account_ID, Contact_Person_ID, \r\n",
                "\tTotal_Amount, Amount_Due, Last_Updated\r\n",
                "FROM dbo.SalesOrder\r\n",
                ";"
            ],
            "metadata": {
                "azdata_cell_guid": "41e5462b-2af1-4730-8a60-b5baaee9a7d9",
                "tags": []
            },
            "outputs": [],
            "execution_count": null
        },
        {
            "cell_type": "markdown",
            "source": [
                "<b>GROUP BY:</b> I want to see total amounts and amount due for all the sales orders for each account.\r\n",
                ""
            ],
            "metadata": {
                "azdata_cell_guid": "35ad7b88-ac40-4ce3-af15-370ac3bc1ca8"
            }
        },
        {
            "cell_type": "code",
            "source": [
                "SELECT a.Account_Name, \r\n",
                "\tSUM(so.Total_Amount) as Total_Amount, \r\n",
                "\tSUM(so.Amount_Due) as Amount_Due\r\n",
                "FROM dbo.SalesOrder as so\r\n",
                "\tJOIN dbo.Account as a ON so.Account_ID = a.Account_ID\r\n",
                "GROUP BY a.Account_Name\r\n",
                ";"
            ],
            "metadata": {
                "azdata_cell_guid": "b119eae7-c310-4d99-91b5-c1fa2a4d1964",
                "tags": []
            },
            "outputs": [],
            "execution_count": null
        },
        {
            "cell_type": "markdown",
            "source": [
                "<b>HAVING:</b> I want to see total amounts and amount due for all the sales orders for each account when they owe more than 500.\r\n",
                "\r\n",
                ""
            ],
            "metadata": {
                "azdata_cell_guid": "fb1410ce-667c-4fec-baab-db435a9eb40d"
            }
        },
        {
            "cell_type": "code",
            "source": [
                "SELECT a.Account_Name, \r\n",
                "\tSUM(Total_Amount) as Total, \r\n",
                "\tSUM(Amount_Due) as Total_Due\r\n",
                "FROM dbo.SalesOrder as so\r\n",
                "\tJOIN dbo.Account as a ON so.Account_ID = a.Account_ID\r\n",
                "GROUP BY a.Account_Name\r\n",
                "HAVING SUM(Amount_Due) > 500\r\n",
                ";"
            ],
            "metadata": {
                "azdata_cell_guid": "c2168394-1d5b-40d8-be4c-e593445aed7d",
                "tags": []
            },
            "outputs": [],
            "execution_count": null
        },
        {
            "cell_type": "markdown",
            "source": [
                "<b>ORDER BY:</b> I want to see the previous results ordered by the contact's last name.\r\n",
                "\r\n",
                ""
            ],
            "metadata": {
                "azdata_cell_guid": "278a0585-6303-461f-8974-971b7dccabd3"
            }
        },
        {
            "cell_type": "code",
            "source": [
                "SELECT a.Account_Name, p.First_Name, p.Last_Name,\r\n",
                "\tSUM(so.Total_Amount) as Total, \r\n",
                "\tSUM(so.Amount_Due) as Total_Due\r\n",
                "FROM dbo.SalesOrder as so\r\n",
                "\tJOIN dbo.Account as a ON so.Account_ID = a.Account_ID\r\n",
                "\tJOIN dbo.Person as p ON a.Primary_Contact_Person_ID = p.Person_ID\r\n",
                "GROUP BY a.Account_Name, p.First_Name, p.Last_Name\r\n",
                "HAVING SUM(so.Amount_Due) > 500\r\n",
                "ORDER BY p.Last_Name \r\n",
                ";"
            ],
            "metadata": {
                "azdata_cell_guid": "ade81bfb-1281-43ee-a05e-f13f982098f3",
                "tags": []
            },
            "outputs": [],
            "execution_count": null
        },
        {
            "cell_type": "markdown",
            "source": [
                "ORDER BY without the GROUP BY: \r\n",
                "\r\n",
                "Sort the orders based on Amount Due from most due to the least due and by the most recent date\r\n",
                ""
            ],
            "metadata": {
                "azdata_cell_guid": "9c543c60-9e00-4dae-a2aa-c559cd5487cd"
            }
        },
        {
            "cell_type": "code",
            "source": [
                "SELECT Sales_Order_ID, Account_ID, Contact_Person_ID, \r\n",
                "\tTotal_Amount, Amount_Due, Last_Updated\r\n",
                "FROM dbo.SalesOrder\r\n",
                "WHERE Amount_Due < 200\r\n",
                "ORDER BY \r\n",
                "\tAmount_Due DESC, \r\n",
                "\tLast_Updated DESC\r\n",
                ";"
            ],
            "metadata": {
                "azdata_cell_guid": "9b95d5bc-f61e-437f-811d-bc5423e32215",
                "tags": []
            },
            "outputs": [],
            "execution_count": null
        },
        {
            "cell_type": "markdown",
            "source": [
                "NOTE: The ORDER BY directions don't have to match..."
            ],
            "metadata": {
                "azdata_cell_guid": "9c0c956a-e819-4de0-b5cb-e6cd9cd84fd8"
            }
        },
        {
            "cell_type": "code",
            "source": [
                "SELECT Sales_Order_ID, Account_ID, Contact_Person_ID, \r\n",
                "\tTotal_Amount, Amount_Due, Last_Updated\r\n",
                "FROM dbo.SalesOrder\r\n",
                "WHERE Amount_Due < 200\r\n",
                "ORDER BY \r\n",
                "\tAmount_Due , \r\n",
                "\tLast_Updated DESC\r\n",
                ";"
            ],
            "metadata": {
                "azdata_cell_guid": "554e32f9-fc5a-420e-adc4-7e2b73719f1a",
                "tags": []
            },
            "outputs": [],
            "execution_count": null
        },
        {
            "cell_type": "markdown",
            "source": [
                "**************\r\n",
                "<h2>End of the SELECT Demos\r\n",
                "\r\n",
                "**************"
            ],
            "metadata": {
                "azdata_cell_guid": "390e9e51-bc7a-4137-aa32-32d64ac5f42e"
            }
        }
    ]
}